{
 "cells": [
  {
   "cell_type": "code",
   "execution_count": 4,
   "metadata": {
    "colab": {
     "base_uri": "https://localhost:8080/",
     "height": 89
    },
    "colab_type": "code",
    "id": "hXfEwLfJJ_aR",
    "outputId": "866726a1-abc9-472a-990b-fed4d8a9063d"
   },
   "outputs": [
    {
     "name": "stdout",
     "output_type": "stream",
     "text": [
      "Collecting rebound\n",
      "\u001b[?25l  Downloading https://files.pythonhosted.org/packages/36/82/6b69a50b142a7acb4392370139347b65edd1945e5321ea44a6696bb4f5cd/rebound-3.6.8.tar.gz (220kB)\n",
      "\u001b[K    100% |████████████████████████████████| 225kB 1.9MB/s \n",
      "\u001b[?25hBuilding wheels for collected packages: rebound\n",
      "  Running setup.py bdist_wheel for rebound ... \u001b[?25ldone\n",
      "\u001b[?25h  Stored in directory: /Users/jonathan/Library/Caches/pip/wheels/01/be/78/0d531ebce2e465c4e32ad0e2242c3aee7e39c8b59ccb95ac98\n",
      "Successfully built rebound\n",
      "\u001b[31mkeras 2.2.2 has requirement keras-applications==1.0.4, but you'll have keras-applications 1.0.6 which is incompatible.\u001b[0m\n",
      "\u001b[31mkeras 2.2.2 has requirement keras-preprocessing==1.0.2, but you'll have keras-preprocessing 1.0.5 which is incompatible.\u001b[0m\n",
      "\u001b[31mdask-ml 0.11.0 has requirement scikit-learn>=0.20, but you'll have scikit-learn 0.19.1 which is incompatible.\u001b[0m\n",
      "\u001b[31mawscli 1.16.41 has requirement botocore==1.12.31, but you'll have botocore 1.12.33 which is incompatible.\u001b[0m\n",
      "\u001b[31mpyql 0.0.0 has requirement bokeh==0.12.3, but you'll have bokeh 1.0.0 which is incompatible.\u001b[0m\n",
      "Installing collected packages: rebound\n",
      "Successfully installed rebound-3.6.8\n",
      "Collecting reboundx\n",
      "\u001b[?25l  Downloading https://files.pythonhosted.org/packages/f0/05/78906cf48fabde2f08759c3aa27a77ac2b4fa58d44795cdd68406ccbfa11/reboundx-2.19.3.tar.gz (64kB)\n",
      "\u001b[K    100% |████████████████████████████████| 71kB 392kB/s \n",
      "\u001b[?25hRequirement already satisfied: rebound>=3.6.1 in /Users/jonathan/anaconda3/lib/python3.6/site-packages (from reboundx) (3.6.8)\n",
      "Requirement already satisfied: numpy in /Users/jonathan/anaconda3/lib/python3.6/site-packages (from reboundx) (1.15.4)\n",
      "Building wheels for collected packages: reboundx\n",
      "  Running setup.py bdist_wheel for reboundx ... \u001b[?25ldone\n",
      "\u001b[?25h  Stored in directory: /Users/jonathan/Library/Caches/pip/wheels/1b/f6/81/c97e8bba4a4d6b081aae6ed400351bf73f449b09ce019aa34d\n",
      "Successfully built reboundx\n",
      "\u001b[31mkeras 2.2.2 has requirement keras-applications==1.0.4, but you'll have keras-applications 1.0.6 which is incompatible.\u001b[0m\n",
      "\u001b[31mkeras 2.2.2 has requirement keras-preprocessing==1.0.2, but you'll have keras-preprocessing 1.0.5 which is incompatible.\u001b[0m\n",
      "\u001b[31mdask-ml 0.11.0 has requirement scikit-learn>=0.20, but you'll have scikit-learn 0.19.1 which is incompatible.\u001b[0m\n",
      "\u001b[31mawscli 1.16.41 has requirement botocore==1.12.31, but you'll have botocore 1.12.33 which is incompatible.\u001b[0m\n",
      "\u001b[31mpyql 0.0.0 has requirement bokeh==0.12.3, but you'll have bokeh 1.0.0 which is incompatible.\u001b[0m\n",
      "Installing collected packages: reboundx\n",
      "Successfully installed reboundx-2.19.3\n"
     ]
    }
   ],
   "source": [
    "!pip install rebound\n",
    "!pip install reboundx"
   ]
  },
  {
   "cell_type": "code",
   "execution_count": null,
   "metadata": {},
   "outputs": [],
   "source": [
    "%matplotlib inline"
   ]
  },
  {
   "cell_type": "code",
   "execution_count": 7,
   "metadata": {
    "colab": {
     "base_uri": "https://localhost:8080/",
     "height": 89
    },
    "colab_type": "code",
    "id": "hXfEwLfJJ_aR",
    "outputId": "866726a1-abc9-472a-990b-fed4d8a9063d"
   },
   "outputs": [],
   "source": [
    "import scipy as sp\n",
    "import numpy as np\n",
    "import pandas as pd\n",
    "import matplotlib.pyplot as plt\n",
    "import matplotlib.patches as patches\n",
    "import random\n",
    "import rebound\n",
    "import reboundx\n",
    "import warnings"
   ]
  },
  {
   "cell_type": "code",
   "execution_count": 8,
   "metadata": {
    "colab": {
     "base_uri": "https://localhost:8080/",
     "height": 89
    },
    "colab_type": "code",
    "id": "hXfEwLfJJ_aR",
    "outputId": "866726a1-abc9-472a-990b-fed4d8a9063d"
   },
   "outputs": [],
   "source": [
    "warnings.filterwarnings(\"ignore\")\n",
    "random.seed(2018)\n",
    "np.random.seed(seed=2018) "
   ]
  },
  {
   "cell_type": "markdown",
   "metadata": {
    "colab": {
     "base_uri": "https://localhost:8080/",
     "height": 359
    },
    "colab_type": "code",
    "id": "HObXX9QXNPZY",
    "outputId": "03a184b5-3cc1-45b6-ed05-dd059d9b89bd"
   },
   "source": [
    "# Simple solar system example"
   ]
  },
  {
   "cell_type": "code",
   "execution_count": 9,
   "metadata": {
    "colab": {
     "base_uri": "https://localhost:8080/",
     "height": 359
    },
    "colab_type": "code",
    "id": "HObXX9QXNPZY",
    "outputId": "03a184b5-3cc1-45b6-ed05-dd059d9b89bd"
   },
   "outputs": [
    {
     "name": "stdout",
     "output_type": "stream",
     "text": [
      "Searching NASA Horizons for 'Sun'... Found: Sun (10).\n",
      "Searching NASA Horizons for 'Jupiter'... Found: Jupiter Barycenter (5).\n"
     ]
    }
   ],
   "source": [
    "## Initiate simulation\n",
    "sim = rebound.Simulation()  \n",
    "\n",
    "##Choose units\n",
    "sim.units = ('yr', 'AU', 'Msun')\n",
    "\n",
    "# Add objet from online database\n",
    "sim.add(\"Sun\")  ## Sun\n",
    "sim.add(\"Jupiter\")  ## Add Jupiter\n",
    "\n",
    "# Add planets manually\n",
    "sim.add(m=9.4716e-5, a=9.58, e=0.0565 ) ## Saturn\n",
    "sim.add(m=4.3645e-5, a=19.2184, e=0.04638 ) ## Uranus\n",
    "sim.add(m=5.1483e-5, a=30.11, e=0.009456 ) ## Neptune\n",
    "\n",
    "# Add comets\n",
    "sim.add(m=0, a=40.0, e=0.5 )  ## comet\n",
    "sim.add(m=0, a=35.0, e=0.6 )  ## Another comet\n",
    "sim.add(m=0, a=30.0, e=0.7 )  ## Another comet"
   ]
  },
  {
   "cell_type": "markdown",
   "metadata": {},
   "source": [
    "#  Print orbital parameters pre-integration"
   ]
  },
  {
   "cell_type": "code",
   "execution_count": 10,
   "metadata": {
    "colab": {
     "base_uri": "https://localhost:8080/",
     "height": 359
    },
    "colab_type": "code",
    "id": "HObXX9QXNPZY",
    "outputId": "03a184b5-3cc1-45b6-ed05-dd059d9b89bd"
   },
   "outputs": [
    {
     "name": "stdout",
     "output_type": "stream",
     "text": [
      "<rebound.Orbit instance, a=5.202547957064865 e=0.048836909214399496 inc=0.022753650988603113 Omega=1.754333234025002 omega=-1.5068637832399299 f=3.989747587583207>\n",
      "<rebound.Orbit instance, a=9.58 e=0.0565 inc=0.0 Omega=0.0 omega=0.0 f=0.0>\n",
      "<rebound.Orbit instance, a=19.2184 e=0.046380000000000095 inc=0.0 Omega=0.0 omega=0.0 f=0.0>\n",
      "<rebound.Orbit instance, a=30.109999999999996 e=0.009455999999999725 inc=0.0 Omega=0.0 omega=0.0 f=0.0>\n",
      "<rebound.Orbit instance, a=40.00000000000001 e=0.5000000000000001 inc=0.0 Omega=0.0 omega=0.0 f=0.0>\n",
      "<rebound.Orbit instance, a=35.00000000000003 e=0.6000000000000003 inc=0.0 Omega=0.0 omega=0.0 f=0.0>\n",
      "<rebound.Orbit instance, a=29.999999999999975 e=0.6999999999999997 inc=0.0 Omega=0.0 omega=0.0 f=0.0>\n"
     ]
    }
   ],
   "source": [
    "for orbit in sim.calculate_orbits(): print(orbit)"
   ]
  },
  {
   "cell_type": "code",
   "execution_count": 11,
   "metadata": {
    "colab": {
     "base_uri": "https://localhost:8080/",
     "height": 359
    },
    "colab_type": "code",
    "id": "HObXX9QXNPZY",
    "outputId": "03a184b5-3cc1-45b6-ed05-dd059d9b89bd"
   },
   "outputs": [
    {
     "data": {
      "image/png": "[encoded data removed]",
      "text/plain": [
       "<Figure size 360x360 with 1 Axes>"
      ]
     },
     "metadata": {
      "needs_background": "light"
     },
     "output_type": "display_data"
    }
   ],
   "source": [
    "fig = rebound.OrbitPlot(sim, trails=True, unitlabel=\"[AU]\")"
   ]
  },
  {
   "cell_type": "code",
   "execution_count": 12,
   "metadata": {
    "colab": {
     "base_uri": "https://localhost:8080/",
     "height": 359
    },
    "colab_type": "code",
    "id": "HObXX9QXNPZY",
    "outputId": "03a184b5-3cc1-45b6-ed05-dd059d9b89bd"
   },
   "outputs": [],
   "source": [
    "sim.integrator = \"whfast\"\n",
    "sim.dt = 11.86/10. # integration timestep, smallest period / 10\n",
    "tmax = 1e4 # tmax is the total duration of the integration\n",
    "sim.integrate(tmax)  # Do the integration"
   ]
  },
  {
   "cell_type": "markdown",
   "metadata": {},
   "source": [
    "---\n",
    "#  Print orbital parameters post-integration"
   ]
  },
  {
   "cell_type": "code",
   "execution_count": 13,
   "metadata": {
    "colab": {
     "base_uri": "https://localhost:8080/",
     "height": 359
    },
    "colab_type": "code",
    "id": "HObXX9QXNPZY",
    "outputId": "03a184b5-3cc1-45b6-ed05-dd059d9b89bd"
   },
   "outputs": [
    {
     "name": "stdout",
     "output_type": "stream",
     "text": [
      "<rebound.Orbit instance, a=5.202998785891847 e=0.04888583508901259 inc=0.021655994977662317 Omega=1.6451750844630355 omega=-1.375178380412206 f=4.284235177121338>\n",
      "<rebound.Orbit instance, a=9.571517390709008 e=0.05408788916324183 inc=0.018986622307550424 Omega=2.819544939852718 omega=-2.2953075968257615 f=3.6894345413212193>\n",
      "<rebound.Orbit instance, a=19.213041140537847 e=0.048631958760188755 inc=0.0010988568376355174 Omega=-2.8597213670575856 omega=2.8802996564491283 f=-1.2613655076462624>\n",
      "<rebound.Orbit instance, a=30.120176142614024 e=0.009136175525260982 inc=0.0002059578880018736 Omega=-2.840421106208502 omega=2.83654760426023 f=-2.9151397046657093>\n",
      "<rebound.Orbit instance, a=39.37096819287901 e=0.49219311154478507 inc=0.00012551150780730803 Omega=-2.6274052985879046 omega=2.640203819055908 f=-3.5426793282316735>\n",
      "<rebound.Orbit instance, a=34.572956934998494 e=0.5955495488842654 inc=0.0003299418117909958 Omega=-2.699369532020598 omega=2.693628185469435 f=-3.229221001998455>\n",
      "<rebound.Orbit instance, a=25.86079325721476 e=0.6408344044884915 inc=0.0017395476665719948 Omega=-2.847763567832563 omega=2.8719795645789525 f=-3.0045346143082043>\n"
     ]
    }
   ],
   "source": [
    "for orbit in sim.calculate_orbits(): print(orbit)"
   ]
  },
  {
   "cell_type": "code",
   "execution_count": 14,
   "metadata": {
    "colab": {
     "base_uri": "https://localhost:8080/",
     "height": 359
    },
    "colab_type": "code",
    "id": "HObXX9QXNPZY",
    "outputId": "03a184b5-3cc1-45b6-ed05-dd059d9b89bd"
   },
   "outputs": [
    {
     "data": {
      "image/png": "[encoded data removed]",
      "text/plain": [
       "<Figure size 360x360 with 1 Axes>"
      ]
     },
     "metadata": {
      "needs_background": "light"
     },
     "output_type": "display_data"
    }
   ],
   "source": [
    "fig = rebound.OrbitPlot(sim, trails=True, unitlabel=\"[AU]\")    "
   ]
  },
  {
   "cell_type": "markdown",
   "metadata": {},
   "source": [
    "# Simulating Saturn's rings\n",
    "\n",
    "In this example, we will simulate a small patch of Saturn's rings. The simulation is similar to the C example in `examples/shearing_sheet`.  \n",
    "We first import REBOUND and numpy, then create an instance of the Simulation class to work with.\n"
   ]
  },
  {
   "cell_type": "code",
   "execution_count": 15,
   "metadata": {
    "colab": {
     "base_uri": "https://localhost:8080/",
     "height": 985
    },
    "colab_type": "code",
    "id": "EtxGLPVoIDiT",
    "outputId": "75959724-848a-42a5-d129-e45e02baadfe"
   },
   "outputs": [],
   "source": [
    "import rebound\n",
    "import numpy as np"
   ]
  },
  {
   "cell_type": "code",
   "execution_count": 16,
   "metadata": {
    "colab": {
     "base_uri": "https://localhost:8080/",
     "height": 985
    },
    "colab_type": "code",
    "id": "EtxGLPVoIDiT",
    "outputId": "75959724-848a-42a5-d129-e45e02baadfe"
   },
   "outputs": [],
   "source": [
    "sim = rebound.Simulation()"
   ]
  },
  {
   "cell_type": "markdown",
   "metadata": {},
   "source": [
    "### Next up, setting up several constants. \n",
    "\n",
    "We will be simulating a shearing sheet, a box with shear-periodic boundary conditions. This is a local approximation which makes the approximation that the epicyclic frequency $\\Omega$ is the same for all particles. \n",
    "We work with a value of $\\Omega$ that corresponds to a semi-major axis of $a\\sim 130000$ km. \n"
   ]
  },
  {
   "cell_type": "code",
   "execution_count": null,
   "metadata": {
    "colab": {
     "base_uri": "https://localhost:8080/",
     "height": 985
    },
    "colab_type": "code",
    "id": "EtxGLPVoIDiT",
    "outputId": "75959724-848a-42a5-d129-e45e02baadfe"
   },
   "outputs": [],
   "source": [
    "OMEGA = 0.00013143527     # [1/s]"
   ]
  },
  {
   "cell_type": "markdown",
   "metadata": {
    "colab": {
     "base_uri": "https://localhost:8080/",
     "height": 985
    },
    "colab_type": "code",
    "id": "EtxGLPVoIDiT",
    "outputId": "75959724-848a-42a5-d129-e45e02baadfe"
   },
   "source": [
    "Next, we need to let REBOUND know about $\\Omega$. Within REBOUND $\\Omega$ is used by the integrator SEI, the Symplectic Epicycle Integrator (see Rein and Tremaine 2012)."
   ]
  },
  {
   "cell_type": "code",
   "execution_count": null,
   "metadata": {
    "colab": {
     "base_uri": "https://localhost:8080/",
     "height": 985
    },
    "colab_type": "code",
    "id": "EtxGLPVoIDiT",
    "outputId": "75959724-848a-42a5-d129-e45e02baadfe"
   },
   "outputs": [],
   "source": [
    "sim.ri_sei.OMEGA = OMEGA"
   ]
  },
  {
   "cell_type": "markdown",
   "metadata": {
    "colab": {
     "base_uri": "https://localhost:8080/",
     "height": 985
    },
    "colab_type": "code",
    "id": "EtxGLPVoIDiT",
    "outputId": "75959724-848a-42a5-d129-e45e02baadfe"
   },
   "source": [
    "Finally, let us define the surface density of the ring and the particle density."
   ]
  },
  {
   "cell_type": "code",
   "execution_count": null,
   "metadata": {
    "colab": {
     "base_uri": "https://localhost:8080/",
     "height": 985
    },
    "colab_type": "code",
    "id": "EtxGLPVoIDiT",
    "outputId": "75959724-848a-42a5-d129-e45e02baadfe"
   },
   "outputs": [],
   "source": [
    "surface_density = 400. # kg/m^2\n",
    "particle_density = 400. # kg/m^3"
   ]
  },
  {
   "cell_type": "markdown",
   "metadata": {
    "colab": {
     "base_uri": "https://localhost:8080/",
     "height": 985
    },
    "colab_type": "code",
    "id": "EtxGLPVoIDiT",
    "outputId": "75959724-848a-42a5-d129-e45e02baadfe"
   },
   "source": [
    "The gravitational constant in SI units is"
   ]
  },
  {
   "cell_type": "code",
   "execution_count": null,
   "metadata": {
    "colab": {
     "base_uri": "https://localhost:8080/",
     "height": 985
    },
    "colab_type": "code",
    "id": "EtxGLPVoIDiT",
    "outputId": "75959724-848a-42a5-d129-e45e02baadfe"
   },
   "outputs": [],
   "source": [
    "sim.G = 6.67428e-11 # N m^2 / kg^2"
   ]
  },
  {
   "cell_type": "markdown",
   "metadata": {
    "colab": {
     "base_uri": "https://localhost:8080/",
     "height": 985
    },
    "colab_type": "code",
    "id": "EtxGLPVoIDiT",
    "outputId": "75959724-848a-42a5-d129-e45e02baadfe"
   },
   "source": [
    "We choose a timestep of 1/1000th of the orbital period."
   ]
  },
  {
   "cell_type": "code",
   "execution_count": null,
   "metadata": {
    "colab": {
     "base_uri": "https://localhost:8080/",
     "height": 985
    },
    "colab_type": "code",
    "id": "EtxGLPVoIDiT",
    "outputId": "75959724-848a-42a5-d129-e45e02baadfe"
   },
   "outputs": [],
   "source": [
    "sim.dt = 1e-3*2.*np.pi/OMEGA"
   ]
  },
  {
   "cell_type": "markdown",
   "metadata": {
    "colab": {
     "base_uri": "https://localhost:8080/",
     "height": 985
    },
    "colab_type": "code",
    "id": "EtxGLPVoIDiT",
    "outputId": "75959724-848a-42a5-d129-e45e02baadfe"
   },
   "source": [
    "We enable gravitational softening to smear out any potential numerical artefacts at very small scales."
   ]
  },
  {
   "cell_type": "code",
   "execution_count": null,
   "metadata": {
    "colab": {
     "base_uri": "https://localhost:8080/",
     "height": 985
    },
    "colab_type": "code",
    "id": "EtxGLPVoIDiT",
    "outputId": "75959724-848a-42a5-d129-e45e02baadfe"
   },
   "outputs": [],
   "source": [
    "sim.softening = 0.2 # [m]"
   ]
  },
  {
   "cell_type": "markdown",
   "metadata": {},
   "source": [
    "Next up, we configure the simulation box. By default REBOUND used no boundary conditions, but here we have shear periodic boundaries and a finite simulation domain, so we need to let REBOUND know about the simulation boxsize (note that it is significantly smaller than $a$, so our local approximation is very good. In this example we'll work in SI units."
   ]
  },
  {
   "cell_type": "code",
   "execution_count": null,
   "metadata": {
    "colab": {
     "base_uri": "https://localhost:8080/",
     "height": 985
    },
    "colab_type": "code",
    "id": "EtxGLPVoIDiT",
    "outputId": "75959724-848a-42a5-d129-e45e02baadfe"
   },
   "outputs": [],
   "source": [
    "boxsize = 200.            # [m]\n",
    "sim.configure_box(boxsize)"
   ]
  },
  {
   "cell_type": "markdown",
   "metadata": {
    "colab": {
     "base_uri": "https://localhost:8080/",
     "height": 985
    },
    "colab_type": "code",
    "id": "EtxGLPVoIDiT",
    "outputId": "75959724-848a-42a5-d129-e45e02baadfe"
   },
   "source": [
    "Because we have shear-periodic boundary conditions, we use ghost boxes to simulate the gravity of neighbouring ring patches. The more ghostboxes we use, the smoother the gravitational force accross the boundary. Here, two layers of ghost boxes in the x and y direction are enough (this is a total of 24 ghost boxes). We don't need ghost boxes in the z direction because a rings is a two dimensional system."
   ]
  },
  {
   "cell_type": "code",
   "execution_count": null,
   "metadata": {
    "colab": {
     "base_uri": "https://localhost:8080/",
     "height": 985
    },
    "colab_type": "code",
    "id": "EtxGLPVoIDiT",
    "outputId": "75959724-848a-42a5-d129-e45e02baadfe"
   },
   "outputs": [],
   "source": [
    "sim.configure_ghostboxes(2,2,0)"
   ]
  },
  {
   "cell_type": "markdown",
   "metadata": {
    "colab": {
     "base_uri": "https://localhost:8080/",
     "height": 985
    },
    "colab_type": "code",
    "id": "EtxGLPVoIDiT",
    "outputId": "75959724-848a-42a5-d129-e45e02baadfe"
   },
   "source": [
    "We can now setup which REBOUND modules we want to use for our simulation. Besides the SEI integrator and the shear-periodic boundary conditions mentioned above, we select the tree modules for both gravity and collisions. This speeds up the code from $O(N^2)$ to $O(N \\log(N))$ for large numbers of particles $N$."
   ]
  },
  {
   "cell_type": "code",
   "execution_count": null,
   "metadata": {
    "colab": {
     "base_uri": "https://localhost:8080/",
     "height": 985
    },
    "colab_type": "code",
    "id": "EtxGLPVoIDiT",
    "outputId": "75959724-848a-42a5-d129-e45e02baadfe"
   },
   "outputs": [],
   "source": [
    "sim.integrator = \"sei\"\n",
    "sim.boundary   = \"shear\"\n",
    "sim.gravity    = \"tree\"\n",
    "sim.collision  = \"tree\"\n",
    "sim.collision_resolve = \"hardsphere\""
   ]
  },
  {
   "cell_type": "markdown",
   "metadata": {
    "colab": {
     "base_uri": "https://localhost:8080/",
     "height": 985
    },
    "colab_type": "code",
    "id": "EtxGLPVoIDiT",
    "outputId": "75959724-848a-42a5-d129-e45e02baadfe"
   },
   "source": [
    "When two ring particles collide, they loose energy during their the bounce. We here use a velocity dependent Bridges et. al. coefficient of restitution. It is implemented as a python function (a C implementation would be faster!). We let REBOUND know which function we want to use by setting the `coefficient_of_restitution` function pointer in the simulation instance. "
   ]
  },
  {
   "cell_type": "code",
   "execution_count": null,
   "metadata": {
    "colab": {
     "base_uri": "https://localhost:8080/",
     "height": 985
    },
    "colab_type": "code",
    "id": "EtxGLPVoIDiT",
    "outputId": "75959724-848a-42a5-d129-e45e02baadfe"
   },
   "outputs": [],
   "source": [
    "def cor_bridges(r, v):\n",
    "        eps = 0.32*pow(abs(v)*100.,-0.234)\n",
    "        if eps>1.:\n",
    "            eps=1.\n",
    "        if eps<0.:\n",
    "            eps=0.\n",
    "        return eps"
   ]
  },
  {
   "cell_type": "code",
   "execution_count": null,
   "metadata": {
    "colab": {
     "base_uri": "https://localhost:8080/",
     "height": 985
    },
    "colab_type": "code",
    "id": "EtxGLPVoIDiT",
    "outputId": "75959724-848a-42a5-d129-e45e02baadfe"
   },
   "outputs": [],
   "source": [
    "sim.coefficient_of_restitution = cor_bridges"
   ]
  },
  {
   "cell_type": "markdown",
   "metadata": {
    "colab": {
     "base_uri": "https://localhost:8080/",
     "height": 985
    },
    "colab_type": "code",
    "id": "EtxGLPVoIDiT",
    "outputId": "75959724-848a-42a5-d129-e45e02baadfe"
   },
   "source": [
    "To initialize the particles, we will draw random numbers from a power law distribution."
   ]
  },
  {
   "cell_type": "code",
   "execution_count": null,
   "metadata": {
    "colab": {
     "base_uri": "https://localhost:8080/",
     "height": 985
    },
    "colab_type": "code",
    "id": "EtxGLPVoIDiT",
    "outputId": "75959724-848a-42a5-d129-e45e02baadfe"
   },
   "outputs": [],
   "source": [
    "def powerlaw(slope, min_v, max_v):\n",
    "    y = np.random.uniform()\n",
    "    pow_max = pow(max_v, slope+1.)\n",
    "    pow_min = pow(min_v, slope+1.)\n",
    "    return pow((pow_max-pow_min)*y + pow_min, 1./(slope+1.))"
   ]
  },
  {
   "cell_type": "markdown",
   "metadata": {
    "colab": {
     "base_uri": "https://localhost:8080/",
     "height": 985
    },
    "colab_type": "code",
    "id": "EtxGLPVoIDiT",
    "outputId": "75959724-848a-42a5-d129-e45e02baadfe"
   },
   "source": [
    "Now we can finally add particles to REBOUND. Note that we initialize particles so that they have initially no velovity relative to the mean shear flow."
   ]
  },
  {
   "cell_type": "code",
   "execution_count": null,
   "metadata": {
    "colab": {
     "base_uri": "https://localhost:8080/",
     "height": 985
    },
    "colab_type": "code",
    "id": "EtxGLPVoIDiT",
    "outputId": "75959724-848a-42a5-d129-e45e02baadfe"
   },
   "outputs": [],
   "source": [
    "total_mass = 0.\n",
    "while total_mass < surface_density*(boxsize**2):\n",
    "    radius = powerlaw(slope=-3, min_v=1, max_v=4)  # [m]    \n",
    "    mass = particle_density*4./3.*np.pi*(radius**3)\n",
    "    x = np.random.uniform(low=-boxsize/2., high=boxsize/2.)\n",
    "    sim.add(\n",
    "        m=mass,\n",
    "        r=radius,\n",
    "        x=x,\n",
    "        y=np.random.uniform(low=-boxsize/2., high=boxsize/2.),\n",
    "        z=np.random.normal(),\n",
    "        vx = 0.,\n",
    "        vy = -3./2.*x*OMEGA, \n",
    "        vz = 0.)\n",
    "    total_mass += mass"
   ]
  },
  {
   "cell_type": "markdown",
   "metadata": {},
   "source": [
    "To see what is going on in our simulation, we create a function to plot the current positions of particles and call it once to visualise the initial conditions."
   ]
  },
  {
   "cell_type": "code",
   "execution_count": null,
   "metadata": {
    "colab": {
     "base_uri": "https://localhost:8080/",
     "height": 985
    },
    "colab_type": "code",
    "id": "EtxGLPVoIDiT",
    "outputId": "75959724-848a-42a5-d129-e45e02baadfe"
   },
   "outputs": [],
   "source": [
    "def plotParticles(sim):\n",
    "    fig = plt.figure(figsize=(8,8))\n",
    "    ax = plt.subplot(111,aspect='equal')\n",
    "    ax.set_ylabel(\"radial coordinate [m]\")\n",
    "    ax.set_xlabel(\"azimuthal coordinate [m]\")\n",
    "    ax.set_ylim(-boxsize/2.,boxsize/2.)\n",
    "    ax.set_xlim(-boxsize/2.,boxsize/2.)\n",
    "    \n",
    "    for i, p in enumerate(sim.particles):\n",
    "        circ = patches.Circle((p.y, p.x), p.r, facecolor='darkgray', edgecolor='black')\n",
    "        ax.add_patch(circ)"
   ]
  },
  {
   "cell_type": "code",
   "execution_count": null,
   "metadata": {
    "colab": {
     "base_uri": "https://localhost:8080/",
     "height": 985
    },
    "colab_type": "code",
    "id": "EtxGLPVoIDiT",
    "outputId": "75959724-848a-42a5-d129-e45e02baadfe"
   },
   "outputs": [],
   "source": [
    "plotParticles(sim)"
   ]
  },
  {
   "cell_type": "markdown",
   "metadata": {
    "colab": {
     "base_uri": "https://localhost:8080/",
     "height": 985
    },
    "colab_type": "code",
    "id": "EtxGLPVoIDiT",
    "outputId": "75959724-848a-42a5-d129-e45e02baadfe"
   },
   "source": [
    "We now integrate for one orbital period $P=2\\pi/\\Omega$."
   ]
  },
  {
   "cell_type": "code",
   "execution_count": null,
   "metadata": {
    "colab": {
     "base_uri": "https://localhost:8080/",
     "height": 985
    },
    "colab_type": "code",
    "id": "EtxGLPVoIDiT",
    "outputId": "75959724-848a-42a5-d129-e45e02baadfe"
   },
   "outputs": [],
   "source": [
    "sim.integrate(2.*np.pi/OMEGA)"
   ]
  },
  {
   "cell_type": "markdown",
   "metadata": {
    "colab": {
     "base_uri": "https://localhost:8080/",
     "height": 985
    },
    "colab_type": "code",
    "id": "EtxGLPVoIDiT",
    "outputId": "75959724-848a-42a5-d129-e45e02baadfe"
   },
   "source": [
    "The integration takes a few seconds, then we can visualise the final particle positions."
   ]
  },
  {
   "cell_type": "code",
   "execution_count": null,
   "metadata": {
    "colab": {
     "base_uri": "https://localhost:8080/",
     "height": 985
    },
    "colab_type": "code",
    "id": "EtxGLPVoIDiT",
    "outputId": "75959724-848a-42a5-d129-e45e02baadfe"
   },
   "outputs": [],
   "source": [
    "plotParticles(sim)"
   ]
  },
  {
   "cell_type": "markdown",
   "metadata": {
    "colab": {
     "base_uri": "https://localhost:8080/",
     "height": 985
    },
    "colab_type": "code",
    "id": "EtxGLPVoIDiT",
    "outputId": "75959724-848a-42a5-d129-e45e02baadfe"
   },
   "source": [
    "Within just one orbital period, one can already see structure appearing on a scale close to the the Toomre critical wavelength. \n",
    "The simulation will eventually settle down in a turbulent state where clumps constantly form, but then get destroyed again after a short time. \n",
    "Permanent clumping cannot occur because particles are inside the Roche limit."
   ]
  },
  {
   "cell_type": "markdown",
   "metadata": {
    "colab": {
     "base_uri": "https://localhost:8080/",
     "height": 622
    },
    "colab_type": "code",
    "id": "_Og6qDUUJmOV",
    "outputId": "f6f180d7-7488-4e31-8ec6-ce503b7da0ed"
   },
   "source": [
    "# Tesla Starman Example"
   ]
  },
  {
   "cell_type": "markdown",
   "metadata": {
    "colab": {
     "base_uri": "https://localhost:8080/",
     "height": 622
    },
    "colab_type": "code",
    "id": "_Og6qDUUJmOV",
    "outputId": "f6f180d7-7488-4e31-8ec6-ce503b7da0ed"
   },
   "source": [
    "This notebook integrates the orbit of Elon Musk's Tesla and Starman. The orbital parameters are taken from Bill Gray's website: https://www.projectpluto.com/temp/j95.htm#elements."
   ]
  },
  {
   "cell_type": "code",
   "execution_count": null,
   "metadata": {
    "colab": {
     "base_uri": "https://localhost:8080/",
     "height": 622
    },
    "colab_type": "code",
    "id": "_Og6qDUUJmOV",
    "outputId": "f6f180d7-7488-4e31-8ec6-ce503b7da0ed"
   },
   "outputs": [],
   "source": [
    "import rebound\n",
    "import numpy as np"
   ]
  },
  {
   "cell_type": "markdown",
   "metadata": {
    "colab": {
     "base_uri": "https://localhost:8080/",
     "height": 622
    },
    "colab_type": "code",
    "id": "_Og6qDUUJmOV",
    "outputId": "f6f180d7-7488-4e31-8ec6-ce503b7da0ed"
   },
   "source": [
    "We start by querying NASA Horizons for the Solar System planets around the time of the orbit injection. "
   ]
  },
  {
   "cell_type": "code",
   "execution_count": null,
   "metadata": {
    "colab": {
     "base_uri": "https://localhost:8080/",
     "height": 622
    },
    "colab_type": "code",
    "id": "_Og6qDUUJmOV",
    "outputId": "f6f180d7-7488-4e31-8ec6-ce503b7da0ed"
   },
   "outputs": [],
   "source": [
    "sim = rebound.Simulation()\n",
    "sim.add([\"Sun\",\"Mercury\",\"Venus\",\"Earth\",\"Mars\",\"Jupiter\",\"Saturn\",\"Uranus\",\"Neptune\"],date=\"2018-02-10 00:00\")\n",
    "sim.save(\"ss.bin\")"
   ]
  },
  {
   "cell_type": "markdown",
   "metadata": {
    "colab": {
     "base_uri": "https://localhost:8080/",
     "height": 622
    },
    "colab_type": "code",
    "id": "_Og6qDUUJmOV",
    "outputId": "f6f180d7-7488-4e31-8ec6-ce503b7da0ed"
   },
   "source": [
    "We stored the simulation to a binary file. This allows us to reload it quickly to play around with things without having to query NASA Horizons too often.\n",
    "\n",
    "Next up, we add the tesla to the simulation."
   ]
  },
  {
   "cell_type": "code",
   "execution_count": null,
   "metadata": {
    "colab": {
     "base_uri": "https://localhost:8080/",
     "height": 622
    },
    "colab_type": "code",
    "id": "_Og6qDUUJmOV",
    "outputId": "f6f180d7-7488-4e31-8ec6-ce503b7da0ed"
   },
   "outputs": [],
   "source": [
    "sim = rebound.Simulation.from_file(\"ss.bin\")\n",
    "sim.add(primary=sim.particles[0],\n",
    "        M=3.68007 *np.pi/180.,\n",
    "        a=1.34126487,\n",
    "        omega = 177.28664 *np.pi/180.,\n",
    "        Omega = 317.45885 *np.pi/180.,\n",
    "        e = 0.2648281,\n",
    "        inc = 1.09424 *np.pi/180.)"
   ]
  },
  {
   "cell_type": "markdown",
   "metadata": {},
   "source": [
    "Let's calculate the characteristic energy (should be about $12~{\\rm km}^2/{\\rm s}^2$)."
   ]
  },
  {
   "cell_type": "code",
   "execution_count": null,
   "metadata": {
    "colab": {
     "base_uri": "https://localhost:8080/",
     "height": 622
    },
    "colab_type": "code",
    "id": "_Og6qDUUJmOV",
    "outputId": "f6f180d7-7488-4e31-8ec6-ce503b7da0ed"
   },
   "outputs": [],
   "source": [
    "tesla = sim.particles[-1]\n",
    "earth = sim.particles[3]\n",
    "r=np.linalg.norm(np.array(tesla.xyz) - np.array(earth.xyz))\n",
    "v=np.linalg.norm(np.array(tesla.vxyz) - np.array(earth.vxyz))\n",
    "energy = 0.5*v*v-earth.m/r\n",
    "c3 = 2.*energy*887.40652 # from units where G=1, length=1AU to km and s\n",
    "print(\"c3 = %f (km^2/s^2)\" % c3)"
   ]
  },
  {
   "cell_type": "markdown",
   "metadata": {
    "colab": {
     "base_uri": "https://localhost:8080/",
     "height": 622
    },
    "colab_type": "code",
    "id": "_Og6qDUUJmOV",
    "outputId": "f6f180d7-7488-4e31-8ec6-ce503b7da0ed"
   },
   "source": [
    "That seems about right! So let's look at the orbit. It starts at Earth's orbit, crosses that of Mars and then enters the asteroid belt."
   ]
  },
  {
   "cell_type": "code",
   "execution_count": null,
   "metadata": {
    "colab": {
     "base_uri": "https://localhost:8080/",
     "height": 622
    },
    "colab_type": "code",
    "id": "_Og6qDUUJmOV",
    "outputId": "f6f180d7-7488-4e31-8ec6-ce503b7da0ed"
   },
   "outputs": [],
   "source": [
    "rebound.OrbitPlot(sim,lim=1.8,slices=True,color=True);"
   ]
  },
  {
   "cell_type": "markdown",
   "metadata": {
    "colab": {
     "base_uri": "https://localhost:8080/",
     "height": 622
    },
    "colab_type": "code",
    "id": "_Og6qDUUJmOV",
    "outputId": "f6f180d7-7488-4e31-8ec6-ce503b7da0ed"
   },
   "source": [
    "And then integrate it forward in time. Here, we use the hybrid integrator MERCURIUS. You can experiment with other integrators which might be faster, but since this is an eccentric orbit, you might see many close encounters, so you either need a non-symplectic integrator such as IAS15 or a hybrid integrator such as MERCURIUS."
   ]
  },
  {
   "cell_type": "markdown",
   "metadata": {
    "colab": {
     "base_uri": "https://localhost:8080/",
     "height": 622
    },
    "colab_type": "code",
    "id": "_Og6qDUUJmOV",
    "outputId": "f6f180d7-7488-4e31-8ec6-ce503b7da0ed"
   },
   "source": [
    "# Integrate"
   ]
  },
  {
   "cell_type": "code",
   "execution_count": null,
   "metadata": {
    "colab": {
     "base_uri": "https://localhost:8080/",
     "height": 622
    },
    "colab_type": "code",
    "id": "_Og6qDUUJmOV",
    "outputId": "f6f180d7-7488-4e31-8ec6-ce503b7da0ed"
   },
   "outputs": [],
   "source": [
    "sim.dt = sim.particles[1].P/10. # small fraction of Mercury's period\n",
    "sim.integrator=\"whfast\"  \n",
    "N = 100\n",
    "times = np.linspace(0.,2.*np.pi*1e5,N)\n",
    "a = np.zeros(N)\n",
    "e = np.zeros(N)\n",
    "for i,t in enumerate(times):\n",
    "    sim.integrate(t,exact_finish_time=0)\n",
    "    orbit = sim.particles[-1].calculate_orbit(primary=sim.particles[0])\n",
    "    a[i] = orbit.a\n",
    "    e[i] = orbit.e"
   ]
  },
  {
   "cell_type": "markdown",
   "metadata": {
    "colab": {
     "base_uri": "https://localhost:8080/",
     "height": 622
    },
    "colab_type": "code",
    "id": "_Og6qDUUJmOV",
    "outputId": "f6f180d7-7488-4e31-8ec6-ce503b7da0ed"
   },
   "source": [
    "Let's plot the orbital parameters!"
   ]
  },
  {
   "cell_type": "code",
   "execution_count": null,
   "metadata": {
    "colab": {
     "base_uri": "https://localhost:8080/",
     "height": 622
    },
    "colab_type": "code",
    "id": "_Og6qDUUJmOV",
    "outputId": "f6f180d7-7488-4e31-8ec6-ce503b7da0ed"
   },
   "outputs": [],
   "source": [
    "import matplotlib.pyplot as plt\n",
    "fig = plt.figure(figsize=(9,7))\n",
    "ax = plt.subplot(211)\n",
    "ax.set_xlim([0,np.max(times)/2./np.pi])\n",
    "ax.set_xlabel(\"time [yrs]\")\n",
    "ax.set_ylabel(\"semi-major axis [AU]\")\n",
    "plt.plot(times/2./np.pi,a)\n",
    "ax = plt.subplot(212)\n",
    "ax.set_xlim([0,np.max(times)/2./np.pi])\n",
    "ax.set_xlabel(\"time [yrs]\")\n",
    "ax.set_ylabel(\"eccentricity\")\n",
    "plt.plot(times/2./np.pi,e);"
   ]
  },
  {
   "cell_type": "markdown",
   "metadata": {
    "colab": {
     "base_uri": "https://localhost:8080/",
     "height": 622
    },
    "colab_type": "code",
    "id": "_Og6qDUUJmOV",
    "outputId": "f6f180d7-7488-4e31-8ec6-ce503b7da0ed"
   },
   "source": [
    "To check the sensitivity of the integrations, let us perturb the initial orbit by a small factor equal to the confidence interval posted by Bill Gray. Instead of just integrating one particle at a time, we here add 10 test particles. We also switch to the high precision IAS15 integrator to get the most reliable result."
   ]
  },
  {
   "cell_type": "code",
   "execution_count": null,
   "metadata": {
    "colab": {
     "base_uri": "https://localhost:8080/",
     "height": 622
    },
    "colab_type": "code",
    "id": "_Og6qDUUJmOV",
    "outputId": "f6f180d7-7488-4e31-8ec6-ce503b7da0ed"
   },
   "outputs": [],
   "source": [
    "sim = rebound.Simulation.from_file(\"ss.bin\")"
   ]
  },
  {
   "cell_type": "code",
   "execution_count": null,
   "metadata": {
    "colab": {
     "base_uri": "https://localhost:8080/",
     "height": 622
    },
    "colab_type": "code",
    "id": "_Og6qDUUJmOV",
    "outputId": "f6f180d7-7488-4e31-8ec6-ce503b7da0ed"
   },
   "outputs": [],
   "source": [
    "Ntesla = 10\n",
    "for i in range(Ntesla):\n",
    "    sim.add(primary=sim.particles[0],\n",
    "        M=(3.68007+0.0013*np.random.normal()) *np.pi/180.,\n",
    "        a=(1.34126487+0.000273*np.random.normal()),\n",
    "        omega = (177.28664+0.00059*np.random.normal()) *np.pi/180.,\n",
    "        Omega = (317.45885+0.0007*np.random.normal()) *np.pi/180.,\n",
    "        e = (0.2648281+0.00015*np.random.normal()),\n",
    "        inc = (1.09424+0.0007*np.random.normal()) *np.pi/180.)"
   ]
  },
  {
   "cell_type": "code",
   "execution_count": null,
   "metadata": {
    "colab": {
     "base_uri": "https://localhost:8080/",
     "height": 622
    },
    "colab_type": "code",
    "id": "_Og6qDUUJmOV",
    "outputId": "f6f180d7-7488-4e31-8ec6-ce503b7da0ed"
   },
   "outputs": [],
   "source": [
    "sim.N_active = 9 # Sun + planets"
   ]
  },
  {
   "cell_type": "markdown",
   "metadata": {},
   "source": [
    "# Let's integrate this..."
   ]
  },
  {
   "cell_type": "code",
   "execution_count": null,
   "metadata": {
    "colab": {
     "base_uri": "https://localhost:8080/",
     "height": 622
    },
    "colab_type": "code",
    "id": "_Og6qDUUJmOV",
    "outputId": "f6f180d7-7488-4e31-8ec6-ce503b7da0ed"
   },
   "outputs": [],
   "source": [
    "sim.dt = sim.particles[1].P/10. # small fraction of Mercury's period\n",
    "sim.integrator=\"whfast\"  "
   ]
  },
  {
   "cell_type": "code",
   "execution_count": null,
   "metadata": {
    "colab": {
     "base_uri": "https://localhost:8080/",
     "height": 622
    },
    "colab_type": "code",
    "id": "_Og6qDUUJmOV",
    "outputId": "f6f180d7-7488-4e31-8ec6-ce503b7da0ed"
   },
   "outputs": [],
   "source": [
    "N = 100\n",
    "times = np.linspace(0.,2.*np.pi*1e3,N)\n",
    "a_log = np.zeros((N,Ntesla))\n",
    "e_log = np.zeros((N,Ntesla))\n",
    "for i,t in enumerate(times):\n",
    "    sim.integrate(t,exact_finish_time=0)\n",
    "    for j in range(Ntesla):\n",
    "        orbit = sim.particles[9+j].calculate_orbit(primary=sim.particles[0])\n",
    "        a_log[i][j] = orbit.a\n",
    "        e_log[i][j] = orbit.e"
   ]
  },
  {
   "cell_type": "markdown",
   "metadata": {
    "colab": {
     "base_uri": "https://localhost:8080/",
     "height": 622
    },
    "colab_type": "code",
    "id": "_Og6qDUUJmOV",
    "outputId": "f6f180d7-7488-4e31-8ec6-ce503b7da0ed"
   },
   "source": [
    "When plotting the semi-major axis and eccentricity of all orbits, note that their kicks are correlated. This is because they are all due to close encounters with the Earth. This fast divergence means that we cannot predict the trajectory for more than a hundred years without knowing the precise initial conditions and all the non-gravitational effects that might be acting on a car in space."
   ]
  },
  {
   "cell_type": "code",
   "execution_count": null,
   "metadata": {
    "colab": {
     "base_uri": "https://localhost:8080/",
     "height": 622
    },
    "colab_type": "code",
    "id": "_Og6qDUUJmOV",
    "outputId": "f6f180d7-7488-4e31-8ec6-ce503b7da0ed"
   },
   "outputs": [],
   "source": [
    "import matplotlib.pyplot as plt"
   ]
  },
  {
   "cell_type": "code",
   "execution_count": null,
   "metadata": {
    "colab": {
     "base_uri": "https://localhost:8080/",
     "height": 622
    },
    "colab_type": "code",
    "id": "_Og6qDUUJmOV",
    "outputId": "f6f180d7-7488-4e31-8ec6-ce503b7da0ed"
   },
   "outputs": [],
   "source": [
    "fig = plt.figure(figsize=(9,7))\n",
    "\n",
    "ax = plt.subplot(211)\n",
    "ax.set_xlim([0,np.max(times)/2./np.pi])\n",
    "ax.set_xlabel(\"time [yrs]\")\n",
    "ax.set_ylabel(\"semi-major axis [AU]\")\n",
    "\n",
    "for j in range(Ntesla):\n",
    "    plt.plot(times/2./np.pi,a_log[:,j])\n",
    "\n",
    "ax = plt.subplot(212)\n",
    "ax.set_xlim([0,np.max(times)/2./np.pi])\n",
    "ax.set_xlabel(\"time [yrs]\")\n",
    "ax.set_ylabel(\"eccentricity\")\n",
    "\n",
    "for j in range(Ntesla):\n",
    "    plt.plot(times/2./np.pi,e_log[:,j])"
   ]
  }
 ],
 "metadata": {
  "colab": {
   "collapsed_sections": [],
   "name": "ASA-AliDib.ipynb",
   "provenance": [],
   "version": "0.3.2"
  },
  "kernelspec": {
   "display_name": "Python 3",
   "language": "python",
   "name": "python3"
  },
  "language_info": {
   "codemirror_mode": {
    "name": "ipython",
    "version": 3
   },
   "file_extension": ".py",
   "mimetype": "text/x-python",
   "name": "python",
   "nbconvert_exporter": "python",
   "pygments_lexer": "ipython3",
   "version": "3.6.6"
  }
 },
 "nbformat": 4,
 "nbformat_minor": 2
}
